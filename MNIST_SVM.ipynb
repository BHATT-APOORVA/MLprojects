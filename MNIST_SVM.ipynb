{
  "nbformat": 4,
  "nbformat_minor": 0,
  "metadata": {
    "colab": {
      "name": "MNIST_SVM.ipynb",
      "provenance": [],
      "collapsed_sections": [],
      "authorship_tag": "ABX9TyNu8+Zo2LlTo+z+39rW1eSW"
    },
    "kernelspec": {
      "name": "python3",
      "display_name": "Python 3"
    },
    "language_info": {
      "name": "python"
    }
  },
  "cells": [
    {
      "cell_type": "code",
      "execution_count": 1,
      "metadata": {
        "id": "1iBwdUygh57M"
      },
      "outputs": [],
      "source": [
        "from sklearn.datasets import fetch_openml\n",
        "\n",
        "mnist = fetch_openml('mnist_784', version=1, cache=True, as_frame=False)"
      ]
    },
    {
      "cell_type": "code",
      "source": [
        "X = mnist[\"data\"]\n",
        "y = mnist[\"target\"]\n",
        "\n",
        "#dataset is already shuffled so not shuffling again\n",
        "X_train = X[:60000]\n",
        "y_train = y[:60000]\n",
        "X_test = X[60000:]\n",
        "y_test = y[60000:]"
      ],
      "metadata": {
        "id": "nE7SPX7NiUCL"
      },
      "execution_count": 6,
      "outputs": []
    },
    {
      "cell_type": "code",
      "source": [
        "#lets scale the data\n",
        "\n",
        "from sklearn.preprocessing import StandardScaler\n",
        "\n",
        "scaler = StandardScaler()\n",
        "X_train = scaler.fit_transform(X_train)\n",
        "X_test = scaler.transform(X_test)"
      ],
      "metadata": {
        "id": "faOPc6uriVOw"
      },
      "execution_count": 7,
      "outputs": []
    },
    {
      "cell_type": "code",
      "source": [
        "from sklearn.svm import LinearSVC, SVC\n",
        "from sklearn.metrics import accuracy_score\n",
        "\n",
        "lin_svc = LinearSVC(random_state=42)\n",
        "lin_svc.fit(X_train,y_train)\n",
        "\n",
        "y_pred = lin_svc.predict(X_train)\n",
        "accuracy_score(y_train,y_pred)"
      ],
      "metadata": {
        "colab": {
          "base_uri": "https://localhost:8080/"
        },
        "id": "OySpyp3NkER9",
        "outputId": "0f5bcaba-285b-4ed1-d060-0491ff32b2b8"
      },
      "execution_count": 8,
      "outputs": [
        {
          "output_type": "stream",
          "name": "stderr",
          "text": [
            "/usr/local/lib/python3.7/dist-packages/sklearn/svm/_base.py:1208: ConvergenceWarning: Liblinear failed to converge, increase the number of iterations.\n",
            "  ConvergenceWarning,\n"
          ]
        },
        {
          "output_type": "execute_result",
          "data": {
            "text/plain": [
              "0.9214"
            ]
          },
          "metadata": {},
          "execution_count": 8
        }
      ]
    },
    {
      "cell_type": "code",
      "source": [
        "X_train_clipped = X_train[:10000]\n",
        "y_train_clipped = y_train[:10000]\n",
        "\n",
        "svm = SVC(random_state=42)\n",
        "svm.fit(X_train_clipped,y_train_clipped)\n",
        "\n",
        "y_pred_clipped = svm.predict(X_train_clipped)\n",
        "accuracy_score(y_train_clipped,y_pred_clipped)"
      ],
      "metadata": {
        "colab": {
          "base_uri": "https://localhost:8080/"
        },
        "id": "MmDNz8Nrl4Kg",
        "outputId": "ed4b16e1-4223-4633-8190-ccc73da3141a"
      },
      "execution_count": 9,
      "outputs": [
        {
          "output_type": "execute_result",
          "data": {
            "text/plain": [
              "0.9832"
            ]
          },
          "metadata": {},
          "execution_count": 9
        }
      ]
    },
    {
      "cell_type": "markdown",
      "source": [
        "Results indicate that we might be better off with non linear classifier\n",
        "\n",
        "Now let's hypertune the model for gamma and c"
      ],
      "metadata": {
        "id": "FDGOuJ-_oJRM"
      }
    },
    {
      "cell_type": "code",
      "source": [
        "from sklearn.model_selection import RandomizedSearchCV\n",
        "from scipy.stats import reciprocal, uniform\n",
        "\n",
        "param_distributions = {\"gamma\": reciprocal(0.001, 0.1), \"C\": uniform(0,10)}\n",
        "rnd_search_cv = RandomizedSearchCV(svm, param_distributions, n_iter=50, verbose=2, cv = 3)\n",
        "rnd_search_cv.fit(X_train_clipped, y_train_clipped)"
      ],
      "metadata": {
        "colab": {
          "base_uri": "https://localhost:8080/"
        },
        "id": "lNqyBHKmoIOS",
        "outputId": "1fc32133-2246-4217-afc8-435a822f80d7"
      },
      "execution_count": 15,
      "outputs": [
        {
          "output_type": "stream",
          "name": "stdout",
          "text": [
            "Fitting 3 folds for each of 50 candidates, totalling 150 fits\n",
            "[CV] END .....C=3.031790298888458, gamma=0.04096607936594001; total time=  48.7s\n",
            "[CV] END .....C=3.031790298888458, gamma=0.04096607936594001; total time=  49.4s\n",
            "[CV] END .....C=3.031790298888458, gamma=0.04096607936594001; total time=  52.9s\n",
            "[CV] END ....C=5.707981742776754, gamma=0.018387207960123133; total time=  46.9s\n",
            "[CV] END ....C=5.707981742776754, gamma=0.018387207960123133; total time=  48.3s\n",
            "[CV] END ....C=5.707981742776754, gamma=0.018387207960123133; total time=  48.3s\n",
            "[CV] END ....C=0.7894816122764758, gamma=0.09183627566515716; total time=  50.4s\n",
            "[CV] END ....C=0.7894816122764758, gamma=0.09183627566515716; total time=  49.3s\n",
            "[CV] END ....C=0.7894816122764758, gamma=0.09183627566515716; total time=  47.9s\n",
            "[CV] END ...C=0.5520021970802247, gamma=0.002623673901065145; total time=  20.2s\n",
            "[CV] END ...C=0.5520021970802247, gamma=0.002623673901065145; total time=  20.3s\n",
            "[CV] END ...C=0.5520021970802247, gamma=0.002623673901065145; total time=  21.1s\n",
            "[CV] END ....C=1.3537353360197701, gamma=0.01368654858541512; total time=  45.5s\n",
            "[CV] END ....C=1.3537353360197701, gamma=0.01368654858541512; total time=  46.2s\n",
            "[CV] END ....C=1.3537353360197701, gamma=0.01368654858541512; total time=  45.0s\n",
            "[CV] END ....C=6.812227467116873, gamma=0.053964920448778986; total time=  49.4s\n",
            "[CV] END ....C=6.812227467116873, gamma=0.053964920448778986; total time=  48.6s\n",
            "[CV] END ....C=6.812227467116873, gamma=0.053964920448778986; total time=  50.0s\n",
            "[CV] END ...C=9.418794281802127, gamma=0.0023360602713733847; total time=  20.5s\n",
            "[CV] END ...C=9.418794281802127, gamma=0.0023360602713733847; total time=  20.3s\n",
            "[CV] END ...C=9.418794281802127, gamma=0.0023360602713733847; total time=  20.8s\n",
            "[CV] END ..C=2.9300493277649142, gamma=0.0011736775916010456; total time=  15.2s\n",
            "[CV] END ..C=2.9300493277649142, gamma=0.0011736775916010456; total time=  14.4s\n",
            "[CV] END ..C=2.9300493277649142, gamma=0.0011736775916010456; total time=  16.3s\n",
            "[CV] END ....C=9.213440280187017, gamma=0.002554149923919523; total time=  22.5s\n",
            "[CV] END ....C=9.213440280187017, gamma=0.002554149923919523; total time=  22.0s\n",
            "[CV] END ....C=9.213440280187017, gamma=0.002554149923919523; total time=  20.2s\n",
            "[CV] END .....C=8.617847553217171, gamma=0.02032152866143082; total time=  50.4s\n",
            "[CV] END .....C=8.617847553217171, gamma=0.02032152866143082; total time=  48.1s\n",
            "[CV] END .....C=8.617847553217171, gamma=0.02032152866143082; total time=  49.1s\n",
            "[CV] END .......C=4.79096865106711, gamma=0.0963297621433251; total time=  50.7s\n",
            "[CV] END .......C=4.79096865106711, gamma=0.0963297621433251; total time=  50.6s\n",
            "[CV] END .......C=4.79096865106711, gamma=0.0963297621433251; total time=  49.9s\n",
            "[CV] END ...C=3.386279553620122, gamma=0.0021838383951126106; total time=  18.6s\n",
            "[CV] END ...C=3.386279553620122, gamma=0.0021838383951126106; total time=  18.8s\n",
            "[CV] END ...C=3.386279553620122, gamma=0.0021838383951126106; total time=  18.7s\n",
            "[CV] END .......C=8.61005629767627, gamma=0.0508250743421649; total time=  50.4s\n",
            "[CV] END .......C=8.61005629767627, gamma=0.0508250743421649; total time=  49.8s\n",
            "[CV] END .......C=8.61005629767627, gamma=0.0508250743421649; total time=  51.8s\n",
            "[CV] END ....C=4.066828231685895, gamma=0.014990785659491818; total time=  46.9s\n",
            "[CV] END ....C=4.066828231685895, gamma=0.014990785659491818; total time=  46.1s\n",
            "[CV] END ....C=4.066828231685895, gamma=0.014990785659491818; total time=  49.9s\n",
            "[CV] END ....C=7.911344014996063, gamma=0.030389036662081467; total time=  51.6s\n",
            "[CV] END ....C=7.911344014996063, gamma=0.030389036662081467; total time=  51.3s\n",
            "[CV] END ....C=7.911344014996063, gamma=0.030389036662081467; total time=  49.4s\n",
            "[CV] END .....C=9.051174142212368, gamma=0.02354849028876058; total time=  50.1s\n",
            "[CV] END .....C=9.051174142212368, gamma=0.02354849028876058; total time=  50.4s\n",
            "[CV] END .....C=9.051174142212368, gamma=0.02354849028876058; total time=  49.5s\n",
            "[CV] END ....C=3.36929070415764, gamma=0.0024985106095107333; total time=  21.0s\n",
            "[CV] END ....C=3.36929070415764, gamma=0.0024985106095107333; total time=  20.8s\n",
            "[CV] END ....C=3.36929070415764, gamma=0.0024985106095107333; total time=  20.5s\n",
            "[CV] END ....C=9.889752428133514, gamma=0.005613589220294978; total time=  35.5s\n",
            "[CV] END ....C=9.889752428133514, gamma=0.005613589220294978; total time=  35.4s\n",
            "[CV] END ....C=9.889752428133514, gamma=0.005613589220294978; total time=  36.6s\n",
            "[CV] END ..C=2.8291845345890665, gamma=0.0023813638142801677; total time=  19.4s\n",
            "[CV] END ..C=2.8291845345890665, gamma=0.0023813638142801677; total time=  20.1s\n",
            "[CV] END ..C=2.8291845345890665, gamma=0.0023813638142801677; total time=  19.0s\n",
            "[CV] END ..C=3.1766797632969923, gamma=0.0055521577404315315; total time=  35.4s\n",
            "[CV] END ..C=3.1766797632969923, gamma=0.0055521577404315315; total time=  36.0s\n",
            "[CV] END ..C=3.1766797632969923, gamma=0.0055521577404315315; total time=  34.3s\n",
            "[CV] END ......C=7.98195426759791, gamma=0.01715829920745799; total time=  46.6s\n",
            "[CV] END ......C=7.98195426759791, gamma=0.01715829920745799; total time=  48.3s\n",
            "[CV] END ......C=7.98195426759791, gamma=0.01715829920745799; total time=  50.7s\n",
            "[CV] END .....C=0.548800710282914, gamma=0.04615016919640908; total time=  51.6s\n",
            "[CV] END .....C=0.548800710282914, gamma=0.04615016919640908; total time=  50.4s\n",
            "[CV] END .....C=0.548800710282914, gamma=0.04615016919640908; total time=  50.3s\n",
            "[CV] END ....C=8.69840923441396, gamma=0.0024103573061830066; total time=  19.5s\n",
            "[CV] END ....C=8.69840923441396, gamma=0.0024103573061830066; total time=  20.5s\n",
            "[CV] END ....C=8.69840923441396, gamma=0.0024103573061830066; total time=  19.3s\n",
            "[CV] END ....C=3.661068030084559, gamma=0.004138577916358441; total time=  29.9s\n",
            "[CV] END ....C=3.661068030084559, gamma=0.004138577916358441; total time=  29.3s\n",
            "[CV] END ....C=3.661068030084559, gamma=0.004138577916358441; total time=  28.8s\n",
            "[CV] END .....C=9.33970286206543, gamma=0.033520506124827154; total time=  51.5s\n",
            "[CV] END .....C=9.33970286206543, gamma=0.033520506124827154; total time=  49.7s\n",
            "[CV] END .....C=9.33970286206543, gamma=0.033520506124827154; total time=  51.7s\n",
            "[CV] END ....C=4.756402521709702, gamma=0.001221787193314281; total time=  15.5s\n",
            "[CV] END ....C=4.756402521709702, gamma=0.001221787193314281; total time=  15.3s\n",
            "[CV] END ....C=4.756402521709702, gamma=0.001221787193314281; total time=  14.5s\n",
            "[CV] END .C=0.07019038225394736, gamma=0.0010829187351063686; total time=  31.6s\n",
            "[CV] END .C=0.07019038225394736, gamma=0.0010829187351063686; total time=  31.6s\n",
            "[CV] END .C=0.07019038225394736, gamma=0.0010829187351063686; total time=  30.5s\n",
            "[CV] END ....C=5.50174644699648, gamma=0.0036600527967074843; total time=  25.7s\n",
            "[CV] END ....C=5.50174644699648, gamma=0.0036600527967074843; total time=  25.3s\n",
            "[CV] END ....C=5.50174644699648, gamma=0.0036600527967074843; total time=  25.6s\n",
            "[CV] END .....C=8.929962689612779, gamma=0.08708050370355819; total time=  51.9s\n",
            "[CV] END .....C=8.929962689612779, gamma=0.08708050370355819; total time=  50.3s\n",
            "[CV] END .....C=8.929962689612779, gamma=0.08708050370355819; total time=  49.7s\n",
            "[CV] END ...C=4.9482032099981605, gamma=0.002045914547609582; total time=  18.8s\n",
            "[CV] END ...C=4.9482032099981605, gamma=0.002045914547609582; total time=  17.7s\n",
            "[CV] END ...C=4.9482032099981605, gamma=0.002045914547609582; total time=  17.9s\n",
            "[CV] END ...C=0.8451026736116884, gamma=0.012821073199081958; total time=  44.5s\n",
            "[CV] END ...C=0.8451026736116884, gamma=0.012821073199081958; total time=  47.3s\n",
            "[CV] END ...C=0.8451026736116884, gamma=0.012821073199081958; total time=  45.9s\n",
            "[CV] END .C=0.23935032703354397, gamma=0.0011362835830703612; total time=  21.1s\n",
            "[CV] END .C=0.23935032703354397, gamma=0.0011362835830703612; total time=  21.7s\n",
            "[CV] END .C=0.23935032703354397, gamma=0.0011362835830703612; total time=  20.7s\n",
            "[CV] END ....C=2.5800453040123115, gamma=0.07142658765805163; total time=  49.2s\n",
            "[CV] END ....C=2.5800453040123115, gamma=0.07142658765805163; total time=  50.3s\n",
            "[CV] END ....C=2.5800453040123115, gamma=0.07142658765805163; total time=  50.9s\n",
            "[CV] END ...C=2.2533812009474397, gamma=0.001853672917541817; total time=  17.5s\n",
            "[CV] END ...C=2.2533812009474397, gamma=0.001853672917541817; total time=  17.2s\n",
            "[CV] END ...C=2.2533812009474397, gamma=0.001853672917541817; total time=  16.7s\n",
            "[CV] END ....C=1.977876691739766, gamma=0.002949865931007083; total time=  22.2s\n",
            "[CV] END ....C=1.977876691739766, gamma=0.002949865931007083; total time=  20.9s\n",
            "[CV] END ....C=1.977876691739766, gamma=0.002949865931007083; total time=  20.9s\n",
            "[CV] END ...C=0.9199902615091271, gamma=0.018388464624999188; total time=  47.6s\n",
            "[CV] END ...C=0.9199902615091271, gamma=0.018388464624999188; total time=  48.2s\n",
            "[CV] END ...C=0.9199902615091271, gamma=0.018388464624999188; total time=  49.2s\n",
            "[CV] END .....C=8.805585124668406, gamma=0.05388390277237473; total time=  48.6s\n",
            "[CV] END .....C=8.805585124668406, gamma=0.05388390277237473; total time=  50.0s\n",
            "[CV] END .....C=8.805585124668406, gamma=0.05388390277237473; total time=  50.0s\n",
            "[CV] END .....C=8.248880404458658, gamma=0.08145095348061722; total time=  49.2s\n",
            "[CV] END .....C=8.248880404458658, gamma=0.08145095348061722; total time=  50.1s\n",
            "[CV] END .....C=8.248880404458658, gamma=0.08145095348061722; total time=  50.9s\n",
            "[CV] END ..C=3.7989970507018143, gamma=0.0015497024832935291; total time=  15.8s\n",
            "[CV] END ..C=3.7989970507018143, gamma=0.0015497024832935291; total time=  16.6s\n",
            "[CV] END ..C=3.7989970507018143, gamma=0.0015497024832935291; total time=  15.2s\n",
            "[CV] END .....C=7.169630526447105, gamma=0.04127653582810643; total time=  49.1s\n",
            "[CV] END .....C=7.169630526447105, gamma=0.04127653582810643; total time=  49.2s\n",
            "[CV] END .....C=7.169630526447105, gamma=0.04127653582810643; total time=  47.4s\n",
            "[CV] END ...C=6.468991995343581, gamma=0.0033178653091742757; total time=  24.5s\n",
            "[CV] END ...C=6.468991995343581, gamma=0.0033178653091742757; total time=  22.7s\n",
            "[CV] END ...C=6.468991995343581, gamma=0.0033178653091742757; total time=  23.0s\n",
            "[CV] END ...C=2.5028623137440587, gamma=0.004940938255963794; total time=  33.0s\n",
            "[CV] END ...C=2.5028623137440587, gamma=0.004940938255963794; total time=  31.6s\n",
            "[CV] END ...C=2.5028623137440587, gamma=0.004940938255963794; total time=  31.0s\n",
            "[CV] END ......C=5.891126667437012, gamma=0.0367973171116542; total time=  48.1s\n",
            "[CV] END ......C=5.891126667437012, gamma=0.0367973171116542; total time=  47.6s\n",
            "[CV] END ......C=5.891126667437012, gamma=0.0367973171116542; total time=  49.0s\n",
            "[CV] END ....C=3.772380996541661, gamma=0.008013175636638193; total time=  40.4s\n",
            "[CV] END ....C=3.772380996541661, gamma=0.008013175636638193; total time=  39.5s\n",
            "[CV] END ....C=3.772380996541661, gamma=0.008013175636638193; total time=  39.5s\n",
            "[CV] END ...C=0.43188692840230525, gamma=0.01265032990994367; total time=  44.0s\n",
            "[CV] END ...C=0.43188692840230525, gamma=0.01265032990994367; total time=  43.6s\n",
            "[CV] END ...C=0.43188692840230525, gamma=0.01265032990994367; total time=  43.4s\n",
            "[CV] END ....C=3.752149742572739, gamma=0.041228572084306116; total time=  50.0s\n",
            "[CV] END ....C=3.752149742572739, gamma=0.041228572084306116; total time=  50.4s\n",
            "[CV] END ....C=3.752149742572739, gamma=0.041228572084306116; total time=  49.2s\n",
            "[CV] END .....C=8.29475016206267, gamma=0.001104264765411168; total time=  14.4s\n",
            "[CV] END .....C=8.29475016206267, gamma=0.001104264765411168; total time=  14.4s\n",
            "[CV] END .....C=8.29475016206267, gamma=0.001104264765411168; total time=  13.7s\n",
            "[CV] END ....C=9.842143763858823, gamma=0.006162174782529874; total time=  38.8s\n",
            "[CV] END ....C=9.842143763858823, gamma=0.006162174782529874; total time=  39.0s\n",
            "[CV] END ....C=9.842143763858823, gamma=0.006162174782529874; total time=  39.1s\n",
            "[CV] END .....C=8.011541938420084, gamma=0.08311559544436883; total time=  52.9s\n",
            "[CV] END .....C=8.011541938420084, gamma=0.08311559544436883; total time=  54.3s\n",
            "[CV] END .....C=8.011541938420084, gamma=0.08311559544436883; total time=  51.5s\n",
            "[CV] END ...C=6.942975735818264, gamma=0.0013429219079658184; total time=  15.5s\n",
            "[CV] END ...C=6.942975735818264, gamma=0.0013429219079658184; total time=  16.0s\n",
            "[CV] END ...C=6.942975735818264, gamma=0.0013429219079658184; total time=  16.3s\n"
          ]
        },
        {
          "output_type": "execute_result",
          "data": {
            "text/plain": [
              "RandomizedSearchCV(cv=3, estimator=SVC(random_state=42), n_iter=50,\n",
              "                   param_distributions={'C': <scipy.stats._distn_infrastructure.rv_frozen object at 0x7feb2ddc4f10>,\n",
              "                                        'gamma': <scipy.stats._distn_infrastructure.rv_frozen object at 0x7feb2ddc4fd0>},\n",
              "                   verbose=2)"
            ]
          },
          "metadata": {},
          "execution_count": 15
        }
      ]
    },
    {
      "cell_type": "code",
      "source": [
        "rnd_search_cv.best_estimator_"
      ],
      "metadata": {
        "colab": {
          "base_uri": "https://localhost:8080/"
        },
        "id": "z_OTyl6lqQ14",
        "outputId": "a547119e-53c9-42b8-8487-33b8a82979d7"
      },
      "execution_count": 19,
      "outputs": [
        {
          "output_type": "execute_result",
          "data": {
            "text/plain": [
              "SVC(C=4.756402521709702, gamma=0.001221787193314281, random_state=42)"
            ]
          },
          "metadata": {},
          "execution_count": 19
        }
      ]
    },
    {
      "cell_type": "code",
      "source": [
        "rnd_search_cv.best_score_"
      ],
      "metadata": {
        "colab": {
          "base_uri": "https://localhost:8080/"
        },
        "id": "HZbMMRr1qZ19",
        "outputId": "04ebf980-a7f0-41d5-b537-1e4126140b28"
      },
      "execution_count": 17,
      "outputs": [
        {
          "output_type": "execute_result",
          "data": {
            "text/plain": [
              "0.9408997588421109"
            ]
          },
          "metadata": {},
          "execution_count": 17
        }
      ]
    },
    {
      "cell_type": "code",
      "source": [
        "rnd_search_cv.best_estimator_.fit(X_train, y_train)"
      ],
      "metadata": {
        "colab": {
          "base_uri": "https://localhost:8080/"
        },
        "id": "MmxDak0IF0AY",
        "outputId": "7f3328da-0bd4-44bb-919b-51e058cadb90"
      },
      "execution_count": 20,
      "outputs": [
        {
          "output_type": "execute_result",
          "data": {
            "text/plain": [
              "SVC(C=4.756402521709702, gamma=0.001221787193314281, random_state=42)"
            ]
          },
          "metadata": {},
          "execution_count": 20
        }
      ]
    },
    {
      "cell_type": "code",
      "source": [
        "y_pred = rnd_search_cv.best_estimator_.predict(X_train)\n",
        "accuracy_score(y_train,y_pred)"
      ],
      "metadata": {
        "colab": {
          "base_uri": "https://localhost:8080/"
        },
        "id": "E0xIhDA4Fz0n",
        "outputId": "d7432080-7271-4088-8b23-6b54ae3f16b6"
      },
      "execution_count": 21,
      "outputs": [
        {
          "output_type": "execute_result",
          "data": {
            "text/plain": [
              "0.9967333333333334"
            ]
          },
          "metadata": {},
          "execution_count": 21
        }
      ]
    },
    {
      "cell_type": "markdown",
      "source": [
        "Lets test the model now"
      ],
      "metadata": {
        "id": "i39iKfchrdgH"
      }
    },
    {
      "cell_type": "code",
      "source": [
        "y_pred_test = rnd_search_cv.best_estimator_.predict(X_test)\n",
        "accuracy_score(y_test,y_pred_test)"
      ],
      "metadata": {
        "colab": {
          "base_uri": "https://localhost:8080/"
        },
        "id": "cszzHswWrNrr",
        "outputId": "a1785596-6182-4889-86be-11ae87822219"
      },
      "execution_count": 22,
      "outputs": [
        {
          "output_type": "execute_result",
          "data": {
            "text/plain": [
              "0.9728"
            ]
          },
          "metadata": {},
          "execution_count": 22
        }
      ]
    }
  ]
}