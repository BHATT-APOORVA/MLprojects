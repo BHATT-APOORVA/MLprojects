{
  "nbformat": 4,
  "nbformat_minor": 0,
  "metadata": {
    "colab": {
      "name": "Classification_MNIST.ipynb",
      "provenance": [],
      "collapsed_sections": [],
      "authorship_tag": "ABX9TyNnPhnwVXpP12W0kg1z4Wdu",
      "include_colab_link": true
    },
    "kernelspec": {
      "name": "python3",
      "display_name": "Python 3"
    },
    "language_info": {
      "name": "python"
    }
  },
  "cells": [
    {
      "cell_type": "markdown",
      "metadata": {
        "id": "view-in-github",
        "colab_type": "text"
      },
      "source": [
        "<a href=\"https://colab.research.google.com/github/BHATT-APOORVA/minorMLprojects/blob/main/Classification_MNIST.ipynb\" target=\"_parent\"><img src=\"https://colab.research.google.com/assets/colab-badge.svg\" alt=\"Open In Colab\"/></a>"
      ]
    },
    {
      "cell_type": "markdown",
      "source": [
        "## MNIST"
      ],
      "metadata": {
        "id": "4UBQHYSjH1H_"
      }
    },
    {
      "cell_type": "code",
      "execution_count": null,
      "metadata": {
        "id": "cTPgwE3XV7W6"
      },
      "outputs": [],
      "source": [
        "from sklearn.datasets import fetch_openml\n",
        "mnist = fetch_openml('mnist_784', version=1,as_frame=False)"
      ]
    },
    {
      "cell_type": "code",
      "source": [
        "X, y = mnist[\"data\"], mnist[\"target\"]\n",
        "X.shape, y.shape"
      ],
      "metadata": {
        "colab": {
          "base_uri": "https://localhost:8080/"
        },
        "id": "NRkpHaniKB-m",
        "outputId": "cbd0b868-ee21-4d8e-9f20-2932091cf7af"
      },
      "execution_count": null,
      "outputs": [
        {
          "output_type": "execute_result",
          "data": {
            "text/plain": [
              "((70000, 784), (70000,))"
            ]
          },
          "metadata": {},
          "execution_count": 4
        }
      ]
    },
    {
      "cell_type": "code",
      "source": [
        "%matplotlib inline\n",
        "import matplotlib as mpl\n",
        "import matplotlib.pyplot as plt\n",
        "\n",
        "dig = X[8]\n",
        "dig_img = dig.reshape(28,28)\n",
        "plt.imshow(dig_img, cmap = mpl.cm.binary)"
      ],
      "metadata": {
        "colab": {
          "base_uri": "https://localhost:8080/",
          "height": 284
        },
        "id": "vRnB3yi9Ke1c",
        "outputId": "796d799c-078a-45ee-b23b-4d08e2854135"
      },
      "execution_count": null,
      "outputs": [
        {
          "output_type": "execute_result",
          "data": {
            "text/plain": [
              "<matplotlib.image.AxesImage at 0x7f90a48a4710>"
            ]
          },
          "metadata": {},
          "execution_count": 6
        },
        {
          "output_type": "display_data",
          "data": {
            "text/plain": [
              "<Figure size 432x288 with 1 Axes>"
            ],
            "image/png": "[encoded data removed]"
          },
          "metadata": {
            "needs_background": "light"
          }
        }
      ]
    },
    {
      "cell_type": "code",
      "source": [
        "import numpy as np\n",
        "#converting y to int\n",
        "y = y.astype(np.uint8)\n",
        "X_train, X_test, y_train, y_test = X[:60000], X[60000:], y[:60000], y[60000:]"
      ],
      "metadata": {
        "id": "YWF0veLLMIXk"
      },
      "execution_count": null,
      "outputs": []
    },
    {
      "cell_type": "code",
      "source": [
        "from sklearn.model_selection import GridSearchCV\n",
        "from sklearn.neighbors import KNeighborsClassifier"
      ],
      "metadata": {
        "id": "WCGEy0oTLBPb"
      },
      "execution_count": null,
      "outputs": []
    },
    {
      "cell_type": "code",
      "source": [
        "?KNeighborsClassifier"
      ],
      "metadata": {
        "id": "5MkwFX6RMHXN"
      },
      "execution_count": null,
      "outputs": []
    },
    {
      "cell_type": "code",
      "source": [
        "knn = KNeighborsClassifier(weights = 'distance', n_neighbors=4)\n",
        "knn.fit(X_train,y_train)"
      ],
      "metadata": {
        "colab": {
          "base_uri": "https://localhost:8080/"
        },
        "id": "k1gnWIXuNA7-",
        "outputId": "03575eeb-4e75-4476-86c6-0b60e6f6de53"
      },
      "execution_count": null,
      "outputs": [
        {
          "output_type": "execute_result",
          "data": {
            "text/plain": [
              "KNeighborsClassifier(n_neighbors=4, weights='distance')"
            ]
          },
          "metadata": {},
          "execution_count": 15
        }
      ]
    },
    {
      "cell_type": "code",
      "source": [
        "y_pred = knn.predict(X_test)"
      ],
      "metadata": {
        "id": "B6ipi0YrNtN_"
      },
      "execution_count": null,
      "outputs": []
    },
    {
      "cell_type": "code",
      "source": [
        "from sklearn.metrics import accuracy_score\n",
        "from sklearn.metrics import confusion_matrix\n",
        "accuracy_score(y_test, y_pred)"
      ],
      "metadata": {
        "colab": {
          "base_uri": "https://localhost:8080/"
        },
        "id": "si_-ayzwN06y",
        "outputId": "df566e09-8aa2-4679-9f8f-76ffbeacae0c"
      },
      "execution_count": null,
      "outputs": [
        {
          "output_type": "execute_result",
          "data": {
            "text/plain": [
              "0.9714"
            ]
          },
          "metadata": {},
          "execution_count": 20
        }
      ]
    },
    {
      "cell_type": "code",
      "source": [
        "con_mat= confusion_matrix(y_test, y_pred)"
      ],
      "metadata": {
        "id": "SdzKpL4lOhjq"
      },
      "execution_count": null,
      "outputs": []
    },
    {
      "cell_type": "code",
      "source": [
        "plt.matshow(con_mat, cmap = mpl.cm.gray)\n",
        "\n",
        "plt.show()"
      ],
      "metadata": {
        "colab": {
          "base_uri": "https://localhost:8080/",
          "height": 275
        },
        "id": "DGrLroG5PYvp",
        "outputId": "a531d6ca-f747-4cfc-8132-c18a1aa831ca"
      },
      "execution_count": null,
      "outputs": [
        {
          "output_type": "display_data",
          "data": {
            "text/plain": [
              "<Figure size 288x288 with 1 Axes>"
            ],
            "image/png": "[encoded data removed]"
          },
          "metadata": {
            "needs_background": "light"
          }
        }
      ]
    },
    {
      "cell_type": "code",
      "source": [
        "#diagonal entries are true, so not concerned with them\n",
        "# 9 and 8 gets misclassified a the most, 4 gets misclassified as 9\n",
        "#dividing number by sum of rows to normalize \n",
        "row_sums = con_mat.sum(axis = 1,keepdims=True)\n",
        "normal_con_mat = con_mat/row_sums\n",
        "np.fill_diagonal(normal_con_mat,0)\n",
        "plt.matshow(normal_con_mat, cmap = mpl.cm.gray)\n",
        "plt.show()"
      ],
      "metadata": {
        "colab": {
          "base_uri": "https://localhost:8080/",
          "height": 275
        },
        "id": "PcZxQKraQeyS",
        "outputId": "e7662a68-bc35-4273-b184-afa2a973b4e6"
      },
      "execution_count": null,
      "outputs": [
        {
          "output_type": "display_data",
          "data": {
            "text/plain": [
              "<Figure size 288x288 with 1 Axes>"
            ],
            "image/png": "[encoded data removed]"
          },
          "metadata": {
            "needs_background": "light"
          }
        }
      ]
    },
    {
      "cell_type": "code",
      "source": [
        "# lets try to do Grid Search CV\n",
        "from sklearn.model_selection import GridSearchCV\n",
        "param_grid = [{'weights' : ['uniform', 'distance'], 'n_neighbors' : [3, 4, 5]}]\n",
        "\n",
        "knn2 = KNeighborsClassifier()\n",
        "grid_search = GridSearchCV(knn2, param_grid, cv =5, verbose = 3)\n",
        "\n",
        "grid_search.fit(X_train, y_train)"
      ],
      "metadata": {
        "colab": {
          "base_uri": "https://localhost:8080/"
        },
        "id": "rcKjiguyRaZ7",
        "outputId": "73793ebb-7a0e-4491-90b5-7ef9b689c50f"
      },
      "execution_count": null,
      "outputs": [
        {
          "output_type": "stream",
          "name": "stdout",
          "text": [
            "Fitting 5 folds for each of 6 candidates, totalling 30 fits\n",
            "[CV 1/5] END ....n_neighbors=3, weights=uniform;, score=0.972 total time=  36.6s\n",
            "[CV 2/5] END ....n_neighbors=3, weights=uniform;, score=0.971 total time=  46.6s\n",
            "[CV 3/5] END ....n_neighbors=3, weights=uniform;, score=0.969 total time=  48.0s\n",
            "[CV 4/5] END ....n_neighbors=3, weights=uniform;, score=0.969 total time=  38.9s\n",
            "[CV 5/5] END ....n_neighbors=3, weights=uniform;, score=0.970 total time=  38.0s\n",
            "[CV 1/5] END ...n_neighbors=3, weights=distance;, score=0.972 total time=  35.7s\n",
            "[CV 2/5] END ...n_neighbors=3, weights=distance;, score=0.972 total time=  35.2s\n",
            "[CV 3/5] END ...n_neighbors=3, weights=distance;, score=0.970 total time=  35.0s\n",
            "[CV 4/5] END ...n_neighbors=3, weights=distance;, score=0.970 total time=  36.0s\n",
            "[CV 5/5] END ...n_neighbors=3, weights=distance;, score=0.971 total time=  35.2s\n",
            "[CV 1/5] END ....n_neighbors=4, weights=uniform;, score=0.969 total time=  39.3s\n",
            "[CV 2/5] END ....n_neighbors=4, weights=uniform;, score=0.968 total time=  39.3s\n",
            "[CV 3/5] END ....n_neighbors=4, weights=uniform;, score=0.968 total time=  38.9s\n",
            "[CV 4/5] END ....n_neighbors=4, weights=uniform;, score=0.967 total time=  39.4s\n",
            "[CV 5/5] END ....n_neighbors=4, weights=uniform;, score=0.970 total time=  39.6s\n",
            "[CV 1/5] END ...n_neighbors=4, weights=distance;, score=0.973 total time=  38.8s\n",
            "[CV 2/5] END ...n_neighbors=4, weights=distance;, score=0.972 total time=  39.0s\n",
            "[CV 3/5] END ...n_neighbors=4, weights=distance;, score=0.970 total time=  38.4s\n",
            "[CV 4/5] END ...n_neighbors=4, weights=distance;, score=0.971 total time=  39.0s\n",
            "[CV 5/5] END ...n_neighbors=4, weights=distance;, score=0.972 total time=  39.6s\n",
            "[CV 1/5] END ....n_neighbors=5, weights=uniform;, score=0.970 total time=  42.5s\n",
            "[CV 2/5] END ....n_neighbors=5, weights=uniform;, score=0.970 total time=  39.7s\n",
            "[CV 3/5] END ....n_neighbors=5, weights=uniform;, score=0.969 total time=  39.4s\n",
            "[CV 4/5] END ....n_neighbors=5, weights=uniform;, score=0.968 total time=  39.7s\n",
            "[CV 5/5] END ....n_neighbors=5, weights=uniform;, score=0.969 total time=  40.1s\n",
            "[CV 1/5] END ...n_neighbors=5, weights=distance;, score=0.970 total time=  39.0s\n",
            "[CV 2/5] END ...n_neighbors=5, weights=distance;, score=0.971 total time=  39.0s\n",
            "[CV 3/5] END ...n_neighbors=5, weights=distance;, score=0.970 total time=  38.6s\n",
            "[CV 4/5] END ...n_neighbors=5, weights=distance;, score=0.969 total time=  39.1s\n",
            "[CV 5/5] END ...n_neighbors=5, weights=distance;, score=0.971 total time=  41.0s\n"
          ]
        },
        {
          "output_type": "execute_result",
          "data": {
            "text/plain": [
              "GridSearchCV(cv=5, estimator=KNeighborsClassifier(),\n",
              "             param_grid=[{'n_neighbors': [3, 4, 5],\n",
              "                          'weights': ['uniform', 'distance']}],\n",
              "             verbose=3)"
            ]
          },
          "metadata": {},
          "execution_count": 38
        }
      ]
    },
    {
      "cell_type": "code",
      "source": [
        "grid_search.best_params_ "
      ],
      "metadata": {
        "colab": {
          "base_uri": "https://localhost:8080/"
        },
        "id": "rdNIBqhuTuBs",
        "outputId": "e0177924-a18d-412e-ca82-db716a669394"
      },
      "execution_count": null,
      "outputs": [
        {
          "output_type": "execute_result",
          "data": {
            "text/plain": [
              "{'n_neighbors': 4, 'weights': 'distance'}"
            ]
          },
          "metadata": {},
          "execution_count": 41
        }
      ]
    },
    {
      "cell_type": "code",
      "source": [
        "# the hyperparams we already used \n",
        "grid_search.best_score_"
      ],
      "metadata": {
        "colab": {
          "base_uri": "https://localhost:8080/"
        },
        "id": "FXRJ8paEY7D3",
        "outputId": "a899cebf-171b-437a-e122-9cef5d1b4a9e"
      },
      "execution_count": null,
      "outputs": [
        {
          "output_type": "execute_result",
          "data": {
            "text/plain": [
              "0.9716166666666666"
            ]
          },
          "metadata": {},
          "execution_count": 43
        }
      ]
    },
    {
      "cell_type": "markdown",
      "source": [
        "## Trying data augumentation"
      ],
      "metadata": {
        "id": "nfrfXxw3Yheu"
      }
    },
    {
      "cell_type": "code",
      "source": [
        "from scipy.ndimage.interpolation import shift"
      ],
      "metadata": {
        "id": "AdsBUPr1UqIX"
      },
      "execution_count": null,
      "outputs": []
    },
    {
      "cell_type": "code",
      "source": [
        "def shift_img(image, dx, dy):\n",
        "  img = image.reshape((28,28))\n",
        "  shift_img = shift(img, [dy, dx], cval= 0, mode = 'constant')\n",
        "  return shift_img.reshape([-1])"
      ],
      "metadata": {
        "id": "WhaU_YihZgid"
      },
      "execution_count": null,
      "outputs": []
    },
    {
      "cell_type": "code",
      "source": [
        "plt.subplot(241)\n",
        "plt.title(\"original\")\n",
        "plt.imshow(X[1776].reshape(28,28), cmap = \"Greys\")\n",
        "\n",
        "plt.subplot(242)\n",
        "plt.title(\"shifted down\")\n",
        "plt.imshow(shift_img(X[1776], 0, 5).reshape(28,28), cmap = \"Greys\")\n",
        "\n",
        "plt.subplot(243)\n",
        "plt.title(\"shifted left\")\n",
        "plt.imshow(shift_img(X[1776], -5, 0).reshape(28,28), cmap = \"Greys\")\n",
        "\n",
        "plt.subplot(244)\n",
        "plt.title(\"shifted right up\")\n",
        "plt.imshow(shift_img(X[1776], 5, -5).reshape(28,28), cmap = \"Greys\")\n",
        "\n",
        "plt.show()"
      ],
      "metadata": {
        "colab": {
          "base_uri": "https://localhost:8080/",
          "height": 137
        },
        "id": "xU3_ro5LaV4M",
        "outputId": "a7ab6594-91dd-43a8-f1c8-568d579a57da"
      },
      "execution_count": null,
      "outputs": [
        {
          "output_type": "display_data",
          "data": {
            "text/plain": [
              "<Figure size 432x288 with 4 Axes>"
            ],
            "image/png": "[encoded data removed]"
          },
          "metadata": {
            "needs_background": "light"
          }
        }
      ]
    },
    {
      "cell_type": "code",
      "source": [
        "x_aug = [img for img in X_train]\n",
        "y_aug = [img for img in y_train]"
      ],
      "metadata": {
        "id": "0ozjHffmaLpX"
      },
      "execution_count": null,
      "outputs": []
    },
    {
      "cell_type": "code",
      "source": [
        "for dx, dy in ((1,0), (-1,0), (0,1), (0,-1)):\n",
        "  for img, label in zip(X_train, y_train):\n",
        "    x_aug.append(shift_img(img, dx, dy))\n",
        "    y_aug.append(label)\n",
        "\n",
        "x_aug = np.array(x_aug)\n",
        "y_aug = np.array(y_aug)\n",
        "shuffle_ind = np.random.permutation(len(x_aug))\n",
        "x_aug = x_aug[shuffle_ind]\n",
        "y_aug = y_aug[shuffle_ind]"
      ],
      "metadata": {
        "id": "JoOVDLkScuNM"
      },
      "execution_count": null,
      "outputs": []
    },
    {
      "cell_type": "code",
      "source": [
        "knn3 = KNeighborsClassifier(weights='distance', n_neighbors=4)\n",
        "knn3.fit(x_aug,y_aug)"
      ],
      "metadata": {
        "colab": {
          "base_uri": "https://localhost:8080/"
        },
        "id": "a-rMj_N8eA2M",
        "outputId": "27451a39-2ea1-4162-ac24-a04840dad23a"
      },
      "execution_count": null,
      "outputs": [
        {
          "output_type": "execute_result",
          "data": {
            "text/plain": [
              "KNeighborsClassifier(n_neighbors=4, weights='distance')"
            ]
          },
          "metadata": {},
          "execution_count": 55
        }
      ]
    },
    {
      "cell_type": "code",
      "source": [
        "y_pred3 = knn3.predict(X_test)\n",
        "accuracy_score(y_test, y_pred3)"
      ],
      "metadata": {
        "colab": {
          "base_uri": "https://localhost:8080/"
        },
        "id": "axSHrSRSeYp0",
        "outputId": "c40c99f3-6538-483e-ba5a-3c8dde63674a"
      },
      "execution_count": null,
      "outputs": [
        {
          "output_type": "execute_result",
          "data": {
            "text/plain": [
              "0.9763"
            ]
          },
          "metadata": {},
          "execution_count": 56
        }
      ]
    },
    {
      "cell_type": "code",
      "source": [
        "con_mat2= confusion_matrix(y_test, y_pred3)\n",
        "row_sums = con_mat2.sum(axis = 1,keepdims=True)\n",
        "normal_con_mat2 = con_mat2/row_sums\n",
        "np.fill_diagonal(normal_con_mat2,0)\n",
        "plt.matshow(normal_con_mat2, cmap = mpl.cm.gray)\n",
        "plt.show()"
      ],
      "metadata": {
        "colab": {
          "base_uri": "https://localhost:8080/",
          "height": 275
        },
        "id": "GzLj0WxqelfG",
        "outputId": "bc376964-7219-4116-fdcf-10356b10f167"
      },
      "execution_count": null,
      "outputs": [
        {
          "output_type": "display_data",
          "data": {
            "text/plain": [
              "<Figure size 288x288 with 1 Axes>"
            ],
            "image/png": "[encoded data removed]"
          },
          "metadata": {
            "needs_background": "light"
          }
        }
      ]
    },
    {
      "cell_type": "code",
      "source": [
        ""
      ],
      "metadata": {
        "id": "5e_8XvLafLlg"
      },
      "execution_count": null,
      "outputs": []
    }
  ]
}